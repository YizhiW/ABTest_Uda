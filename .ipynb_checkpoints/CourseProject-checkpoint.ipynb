{
 "cells": [
  {
   "cell_type": "markdown",
   "metadata": {},
   "source": [
    "# Course Project\n",
    "\n",
    "## Experiment overview\n",
    "[link to the overview](https://docs.google.com/document/u/1/d/1aCquhIqsUApgsxQ8-SQBAigFDcfWVVohLEXcV6jWbdI/pub?embedded=True)\n",
    "\n",
    "* Briefly speaking, the experiment is to add a pop-up notice which explains minimum 5+ hours devotion to the course per week \n",
    "is required before users signing up for the free trial. The purpose of the change is to improve the completion rate for the class while \n",
    "keep the signing up rate as high as possible.\n",
    "\n",
    "\n",
    "## 1. Metrics selection\n",
    "\n",
    "* **Number of cookies**: That is, number of unique cookies to view the course overview page. (dmin=3000)\n",
    "\t* Invariant; Number of cookies won't change because the experiment is one level deeper in the funnel\n",
    "* **Number of user-ids**: That is, number of users who enroll in the free trial. (dmin=50)\n",
    "\t* variant, but the absolute value change doesn't mean we have higher retention rate\n",
    "* **Number of clicks**: That is, number of unique cookies to click the \"Start free trial\" button (which happens before the free trial screener is trigger). (dmin=240)\n",
    "\t* Invariant; Number of clicks won't change because the experiment is one level deeper in the funnel\n",
    "* **Click-through-probability**: That is, number of unique cookies to click the \"Start free trial\" button divided by number of unique cookies to view the course overview page. (dmin=0.01)\n",
    "\t* Invariant; CTP won't change because the experiment is one level deeper in the funnel\n",
    "* **Gross conversion**: That is, number of user-ids to complete checkout and enroll in the free trial divided by number of unique cookies to click the \"Start free trial\" button. (dmin= 0.01)\n",
    "\t* Evaluation metric; We should see gross conversion reduce since we set up a notice for students before they sign up\n",
    "* **Retention**: That is, number of user-ids to remain enrolled past the 14-day boundary (and thus make at least one payment) divided by number of user-ids to complete checkout. (dmin=0.01)\n",
    "\t* Evaluation metric; We should see retention increase since students who signed up after they saw the notice should have a clearer expectation\n",
    "* **Net conversion**: That is, number of user-ids to remain enrolled past the 14-day boundary (and thus make at least one payment) divided by the number of unique cookies to click the \"Start free trial\" button. (dmin= 0.0075)\n",
    "\t* Evaluation metric; We should see net conversion increase since students who signed up after they saw the notice should have a clearer expectation"
   ]
  },
  {
   "cell_type": "markdown",
   "metadata": {},
   "source": [
    "## 2. Measure Variability\n",
    "* Given data below, if you have a sample that has 5000 cookie clicks, measure the analytical standard deviation"
   ]
  },
  {
   "cell_type": "code",
   "execution_count": 3,
   "metadata": {
    "collapsed": true
   },
   "outputs": [],
   "source": [
    "#Unique cookies to view course overview page per day:40000\n",
    "cookie_overview = 40000\n",
    "#Unique cookies to click \"Start free trial\" per day:3200\n",
    "cookie_startfreetrial = 3200\n",
    "#Enrollments per day:660\n",
    "enrollment = 660\n",
    "#Click-through-probability on \"Start free trial\":0.08\n",
    "ctp_startfreetrial = 0.08\n",
    "#Probability of enrolling, given click:0.20625\n",
    "p_enroll_upon_click = 0.20625\n",
    "#Probability of payment, given enroll:0.53\n",
    "p_payment_upon_enroll = 0.53\n",
    "#Probability of payment, given click:0.1093125\n",
    "p_payment_upon_click = 0.1093125"
   ]
  },
  {
   "cell_type": "markdown",
   "metadata": {},
   "source": [
    "* Since our three evaluation metrics are all possiblities, we can assume binomial distribution "
   ]
  },
  {
   "cell_type": "code",
   "execution_count": 18,
   "metadata": {
    "collapsed": true
   },
   "outputs": [],
   "source": [
    "def binomial_SE_evaluation(p, n, n_sample):\n",
    "    '''Given probablity p under size n and sample size n_sample, return sample standard error'''\n",
    "    SE = (p*(1-p)/n)**0.5\n",
    "    # SE/sqrt(n) = SE_sample/sqrt(n_sample)\n",
    "    return SE*(n**0.5)/(n_sample**0.5)"
   ]
  },
  {
   "cell_type": "code",
   "execution_count": 30,
   "metadata": {},
   "outputs": [
    {
     "name": "stdout",
     "output_type": "stream",
     "text": [
      "SE_gross_conversion: 0.0202\n",
      "SE_retention: 0.0549\n",
      "SE_net_conversion: 0.0156\n"
     ]
    }
   ],
   "source": [
    "sample_cookie_overview = 5000\n",
    "sample_cookie_startfreetrial = sample_cookie_overview * ctp_startfreetrial\n",
    "sample_enrollment = sample_cookie_overview * ctp_startfreetrial * p_enroll_upon_click\n",
    "\n",
    "SE_gross_conversion = binomial_SE_evaluation(p_enroll_upon_click, cookie_startfreetrial, sample_cookie_startfreetrial)\n",
    "SE_retention = binomial_SE_evaluation(p_payment_upon_enroll, enrollment, sample_enrollment)\n",
    "SE_net_conversion = binomial_SE_evaluation(p_payment_upon_click, cookie_startfreetrial, sample_cookie_startfreetrial)\n",
    "\n",
    "print('SE_gross_conversion: {0:.4f}'.format(SE_gross_conversion))\n",
    "print('SE_retention: {0:.4f}'.format(SE_retention))\n",
    "print('SE_net_conversion: {0:.4f}'.format(SE_net_conversion))"
   ]
  },
  {
   "cell_type": "markdown",
   "metadata": {},
   "source": [
    "## 3. Size"
   ]
  },
  {
   "cell_type": "code",
   "execution_count": null,
   "metadata": {
    "collapsed": true
   },
   "outputs": [],
   "source": []
  }
 ],
 "metadata": {
  "kernelspec": {
   "display_name": "Python 3",
   "language": "python",
   "name": "python3"
  },
  "language_info": {
   "codemirror_mode": {
    "name": "ipython",
    "version": 3
   },
   "file_extension": ".py",
   "mimetype": "text/x-python",
   "name": "python",
   "nbconvert_exporter": "python",
   "pygments_lexer": "ipython3",
   "version": "3.6.4"
  }
 },
 "nbformat": 4,
 "nbformat_minor": 2
}
