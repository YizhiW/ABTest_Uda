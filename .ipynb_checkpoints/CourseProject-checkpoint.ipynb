{
 "cells": [
  {
   "cell_type": "markdown",
   "metadata": {},
   "source": [
    "# Course Project\n",
    "\n",
    "## Experiment overview\n",
    "[link to the overview](https://docs.google.com/document/u/1/d/1aCquhIqsUApgsxQ8-SQBAigFDcfWVVohLEXcV6jWbdI/pub?embedded=True)\n",
    "\n",
    "* Briefly speaking, the experiment is to add a pop-up notice which explains minimum 5+ hours devotion to the course per week \n",
    "is required before users signing up for the free trial. The purpose of the change is to improve the completion rate for the class while \n",
    "keep the signing up rate as high as possible.\n",
    "\n",
    "\n",
    "## 1. Metrics selection\n",
    "\n",
    "* **Number of cookies**: That is, number of unique cookies to view the course overview page. (dmin=3000)\n",
    "\t* Invariant; Number of cookies won't change because the experiment is one level deeper in the funnel\n",
    "* **Number of user-ids**: That is, number of users who enroll in the free trial. (dmin=50)\n",
    "\t* variant, but the absolute value change doesn't mean we have higher retention rate\n",
    "* **Number of clicks**: That is, number of unique cookies to click the \"Start free trial\" button (which happens before the free trial screener is trigger). (dmin=240)\n",
    "\t* Invariant; Number of clicks won't change because the experiment is one level deeper in the funnel\n",
    "* **Click-through-probability**: That is, number of unique cookies to click the \"Start free trial\" button divided by number of unique cookies to view the course overview page. (dmin=0.01)\n",
    "\t* Invariant; CTP won't change because the experiment is one level deeper in the funnel\n",
    "* **Gross conversion**: That is, number of user-ids to complete checkout and enroll in the free trial divided by number of unique cookies to click the \"Start free trial\" button. (dmin= 0.01)\n",
    "\t* Evaluation metric; We should see gross conversion reduce since we set up a notice for students before they sign up\n",
    "* **Retention**: That is, number of user-ids to remain enrolled past the 14-day boundary (and thus make at least one payment) divided by number of user-ids to complete checkout. (dmin=0.01)\n",
    "\t* Evaluation metric; We should see retention increase since students who signed up after they saw the notice should have a clearer expectation\n",
    "* **Net conversion**: That is, number of user-ids to remain enrolled past the 14-day boundary (and thus make at least one payment) divided by the number of unique cookies to click the \"Start free trial\" button. (dmin= 0.0075)\n",
    "\t* Evaluation metric; We should see net conversion increase since students who signed up after they saw the notice should have a clearer expectation"
   ]
  },
  {
   "cell_type": "markdown",
   "metadata": {},
   "source": [
    "## 2. Measure Variability\n",
    "* Given data below, if you have a sample that has 5000 cookie clicks, measure the analytical standard deviation"
   ]
  },
  {
   "cell_type": "code",
   "execution_count": 13,
   "metadata": {
    "collapsed": true
   },
   "outputs": [],
   "source": [
    "#Unique cookies to view course overview page per day:40000\n",
    "cookie_overview = 40000\n",
    "#Unique cookies to click \"Start free trial\" per day:3200\n",
    "cookie_startfreetrial = 3200\n",
    "#Enrollments per day:660\n",
    "enrollment = 660\n",
    "#Click-through-probability on \"Start free trial\":0.08\n",
    "ctp_startfreetrial = 0.08\n",
    "#Probability of enrolling, given click:0.20625\n",
    "p_enroll_upon_click = 0.20625\n",
    "#Probability of payment, given enroll:0.53\n",
    "p_payment_upon_enroll = 0.53\n",
    "#Probability of payment, given click:0.1093125\n",
    "p_payment_upon_click = 0.1093125"
   ]
  },
  {
   "cell_type": "markdown",
   "metadata": {},
   "source": [
    "* Since our three evaluation metrics are all possiblities, we can assume binomial distribution "
   ]
  },
  {
   "cell_type": "code",
   "execution_count": 14,
   "metadata": {
    "collapsed": true
   },
   "outputs": [],
   "source": [
    "def binomial_SE_evaluation(p, n, n_sample):\n",
    "    '''Given probablity p under size n and sample size n_sample, return sample standard error'''\n",
    "    SE = (p*(1-p)/n)**0.5\n",
    "    # SE/sqrt(n) = SE_sample/sqrt(n_sample)\n",
    "    return SE*(n**0.5)/(n_sample**0.5)"
   ]
  },
  {
   "cell_type": "code",
   "execution_count": 15,
   "metadata": {},
   "outputs": [
    {
     "name": "stdout",
     "output_type": "stream",
     "text": [
      "SE_gross_conversion: 0.0202\n",
      "SE_retention: 0.0549\n",
      "SE_net_conversion: 0.0156\n"
     ]
    }
   ],
   "source": [
    "sample_cookie_overview = 5000\n",
    "sample_cookie_startfreetrial = sample_cookie_overview * ctp_startfreetrial\n",
    "sample_enrollment = sample_cookie_overview * ctp_startfreetrial * p_enroll_upon_click\n",
    "\n",
    "SE_gross_conversion = binomial_SE_evaluation(p_enroll_upon_click, cookie_startfreetrial, sample_cookie_startfreetrial)\n",
    "SE_retention = binomial_SE_evaluation(p_payment_upon_enroll, enrollment, sample_enrollment)\n",
    "SE_net_conversion = binomial_SE_evaluation(p_payment_upon_click, cookie_startfreetrial, sample_cookie_startfreetrial)\n",
    "\n",
    "print('SE_gross_conversion: {0:.4f}'.format(SE_gross_conversion))\n",
    "print('SE_retention: {0:.4f}'.format(SE_retention))\n",
    "print('SE_net_conversion: {0:.4f}'.format(SE_net_conversion))"
   ]
  },
  {
   "cell_type": "markdown",
   "metadata": {},
   "source": [
    "## 3. Size\n",
    "* Given \n",
    "    $$ \\alpha = 0.05 $$\n",
    "    $$ \\beta = 0.2 $$\n",
    "    Calculate how many page view do you need for the experiment\n",
    "    Below is the process how to calculate sample size given $\\alpha$, $\\beta$ and $d_{min}$\n",
    "    \\begin{equation}\n",
    "        Z_1 = \\Phi_{1}^{-1} \\left(\\frac{\\alpha}{2} \\right), X \\sim N\\left(0, SE\\right) \\\\\n",
    "        Z_2 = \\Phi_{2}^{-1} \\left(\\beta \\right), X \\sim N\\left(d_{min}, SE\\right) \\\\\n",
    "        Z_1 = Z_2\n",
    "    \\end{equation}"
   ]
  },
  {
   "cell_type": "code",
   "execution_count": 24,
   "metadata": {
    "collapsed": true
   },
   "outputs": [],
   "source": [
    "import scipy.stats\n",
    "# practical significance level\n",
    "dmin_p_enroll_upon_click = 0.01\n",
    "#Probability of payment, given enroll\n",
    "dmin_p_payment_upon_enroll = 0.01\n",
    "#Probability of payment, given click\n",
    "dmin_p_payment_upon_click = 0.0075"
   ]
  },
  {
   "cell_type": "code",
   "execution_count": 62,
   "metadata": {},
   "outputs": [
    {
     "data": {
      "text/plain": [
       "1.9599639845400545"
      ]
     },
     "execution_count": 62,
     "metadata": {},
     "output_type": "execute_result"
    }
   ],
   "source": [
    "-scipy.stats.norm.ppf(0.05/2)"
   ]
  },
  {
   "cell_type": "code",
   "execution_count": 77,
   "metadata": {},
   "outputs": [
    {
     "data": {
      "text/plain": [
       "-0.8416212335729142"
      ]
     },
     "execution_count": 77,
     "metadata": {},
     "output_type": "execute_result"
    }
   ],
   "source": [
    "scipy.stats.norm.ppf(0.2)"
   ]
  },
  {
   "cell_type": "code",
   "execution_count": 95,
   "metadata": {},
   "outputs": [],
   "source": [
    "def normal_test_sample_size(p, dmin, alpha, beta):\n",
    "    SE_base = (p*(1-p))**0.5\n",
    "    z_1 = abs(scipy.stats.norm.ppf(alpha/2))\n",
    "    z_2 = abs(scipy.stats.norm.ppf(beta))\n",
    "    # multiple by 2 since pooled standard error is p(1-p)*2/n\n",
    "    n = ((z_1+z_2)*SE_base/dmin)**2 * 2\n",
    "    return n"
   ]
  },
  {
   "cell_type": "code",
   "execution_count": 96,
   "metadata": {},
   "outputs": [
    {
     "name": "stdout",
     "output_type": "stream",
     "text": [
      "gross conversion - click size needed: 51398\n",
      "retention - enrollment size needed: 78206\n",
      "net conversion - click size needed: 54343\n",
      "gross conversion - pageview size needed: 642474\n",
      "retention - pageview size needed: 4739772\n",
      "net conversion - pageview size needed: 679282\n"
     ]
    }
   ],
   "source": [
    "click_gross_conversion = normal_test_sample_size(p_enroll_upon_click, dmin_p_enroll_upon_click, 0.05, 0.2) * 2\n",
    "\n",
    "enrollment_retention = normal_test_sample_size(p_payment_upon_enroll, dmin_p_payment_upon_enroll, 0.05, 0.2) * 2 \n",
    "\n",
    "click_net_conversion = normal_test_sample_size(p_payment_upon_click, dmin_p_payment_upon_click, 0.05, 0.2) * 2 \n",
    "\n",
    "print('gross conversion - click size needed: {0:.0f}'.format(click_gross_conversion))\n",
    "print('retention - enrollment size needed: {0:.0f}'.format(enrollment_retention))\n",
    "print('net conversion - click size needed: {0:.0f}'.format(click_net_conversion))\n",
    "\n",
    "print('gross conversion - pageview size needed: {0:.0f}'.format(click_gross_conversion/ctp_startfreetrial))\n",
    "print('retention - pageview size needed: {0:.0f}'.format(enrollment_retention/p_enroll_upon_click/ctp_startfreetrial))\n",
    "print('net conversion - pageview size needed: {0:.0f}'.format(click_net_conversion/ctp_startfreetrial))"
   ]
  },
  {
   "cell_type": "code",
   "execution_count": 76,
   "metadata": {},
   "outputs": [
    {
     "data": {
      "text/plain": [
       "4739772"
      ]
     },
     "execution_count": 76,
     "metadata": {},
     "output_type": "execute_result"
    }
   ],
   "source": [
    "2369886*2"
   ]
  },
  {
   "cell_type": "code",
   "execution_count": 30,
   "metadata": {},
   "outputs": [
    {
     "data": {
      "text/plain": [
       "384416.36277300556"
      ]
     },
     "execution_count": 30,
     "metadata": {},
     "output_type": "execute_result"
    }
   ],
   "source": [
    "192208.18138650278*2"
   ]
  },
  {
   "cell_type": "code",
   "execution_count": null,
   "metadata": {
    "collapsed": true
   },
   "outputs": [],
   "source": []
  }
 ],
 "metadata": {
  "kernelspec": {
   "display_name": "Python 3",
   "language": "python",
   "name": "python3"
  },
  "language_info": {
   "codemirror_mode": {
    "name": "ipython",
    "version": 3
   },
   "file_extension": ".py",
   "mimetype": "text/x-python",
   "name": "python",
   "nbconvert_exporter": "python",
   "pygments_lexer": "ipython3",
   "version": "3.6.4"
  }
 },
 "nbformat": 4,
 "nbformat_minor": 2
}
