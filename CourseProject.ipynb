{
 "cells": [
  {
   "cell_type": "markdown",
   "metadata": {},
   "source": [
    "# Course Project\n",
    "\n",
    "## Experiment overview\n",
    "[link to the overview](https://docs.google.com/document/u/1/d/1aCquhIqsUApgsxQ8-SQBAigFDcfWVVohLEXcV6jWbdI/pub?embedded=True)\n",
    "\n",
    "* Briefly speaking, the experiment is to add a pop-up notice which explains minimum 5+ hours devotion to the course per week \n",
    "is required before users signing up for the free trial. The purpose of the change is to improve the completion rate for the class while \n",
    "keep the signing up rate as high as possible.\n",
    "\n",
    "\n",
    "## 1. Metrics selection\n",
    "\n",
    "* **Number of cookies**: That is, number of unique cookies to view the course overview page. (dmin=3000)\n",
    "\t* Invariant; Number of cookies won't change because the experiment is one level deeper in the funnel\n",
    "* **Number of user-ids**: That is, number of users who enroll in the free trial. (dmin=50)\n",
    "\t* variant, but the absolute value change doesn't mean we have higher retention rate\n",
    "* **Number of clicks**: That is, number of unique cookies to click the \"Start free trial\" button (which happens before the free trial screener is trigger). (dmin=240)\n",
    "\t* Invariant; Number of clicks won't change because the experiment is one level deeper in the funnel\n",
    "* **Click-through-probability**: That is, number of unique cookies to click the \"Start free trial\" button divided by number of unique cookies to view the course overview page. (dmin=0.01)\n",
    "\t* Invariant; CTP won't change because the experiment is one level deeper in the funnel\n",
    "* **Gross conversion**: That is, number of user-ids to complete checkout and enroll in the free trial divided by number of unique cookies to click the \"Start free trial\" button. (dmin= 0.01)\n",
    "\t* Evaluation metric; We should see gross conversion reduce since we set up a notice for students before they sign up\n",
    "* **Retention**: That is, number of user-ids to remain enrolled past the 14-day boundary (and thus make at least one payment) divided by number of user-ids to complete checkout. (dmin=0.01)\n",
    "\t* Evaluation metric; We should see retention increase since students who signed up after they saw the notice should have a clearer expectation\n",
    "* **Net conversion**: That is, number of user-ids to remain enrolled past the 14-day boundary (and thus make at least one payment) divided by the number of unique cookies to click the \"Start free trial\" button. (dmin= 0.0075)\n",
    "\t* Evaluation metric; We should see net conversion increase since students who signed up after they saw the notice should have a clearer expectation"
   ]
  },
  {
   "cell_type": "markdown",
   "metadata": {},
   "source": [
    "## 2. Measure Variability\n",
    "* Given data below, if you have a sample that has 5000 cookie clicks, measure the analytical standard deviation"
   ]
  },
  {
   "cell_type": "code",
   "execution_count": 19,
   "metadata": {
    "collapsed": true
   },
   "outputs": [],
   "source": [
    "#Unique cookies to view course overview page per day:40000\n",
    "cookie_overview = 40000\n",
    "#Unique cookies to click \"Start free trial\" per day:3200\n",
    "cookie_startfreetrial = 3200\n",
    "#Enrollments per day:660\n",
    "enrollment = 660\n",
    "#Click-through-probability on \"Start free trial\":0.08\n",
    "ctp_startfreetrial = 0.08\n",
    "#Probability of enrolling, given click:0.20625\n",
    "p_enroll_upon_click = 0.20625\n",
    "#Probability of payment, given enroll:0.53\n",
    "p_payment_upon_enroll = 0.53\n",
    "#Probability of payment, given click:0.1093125\n",
    "p_payment_upon_click = 0.1093125"
   ]
  },
  {
   "cell_type": "markdown",
   "metadata": {},
   "source": [
    "* Since our three evaluation metrics are all possiblities, we can assume binomial distribution "
   ]
  },
  {
   "cell_type": "code",
   "execution_count": 20,
   "metadata": {
    "collapsed": true
   },
   "outputs": [],
   "source": [
    "def binomial_SE_evaluation(p, n, n_sample):\n",
    "    '''Given probablity p under size n and sample size n_sample, return sample standard error'''\n",
    "    SE = (p*(1-p)/n)**0.5\n",
    "    # SE/sqrt(n) = SE_sample/sqrt(n_sample)\n",
    "    return SE*(n**0.5)/(n_sample**0.5)"
   ]
  },
  {
   "cell_type": "code",
   "execution_count": 21,
   "metadata": {},
   "outputs": [
    {
     "name": "stdout",
     "output_type": "stream",
     "text": [
      "SE_gross_conversion: 0.0202\n",
      "SE_retention: 0.0549\n",
      "SE_net_conversion: 0.0156\n"
     ]
    }
   ],
   "source": [
    "sample_cookie_overview = 5000\n",
    "sample_cookie_startfreetrial = sample_cookie_overview * ctp_startfreetrial\n",
    "sample_enrollment = sample_cookie_overview * ctp_startfreetrial * p_enroll_upon_click\n",
    "\n",
    "SE_gross_conversion = binomial_SE_evaluation(p_enroll_upon_click, cookie_startfreetrial, sample_cookie_startfreetrial)\n",
    "SE_retention = binomial_SE_evaluation(p_payment_upon_enroll, enrollment, sample_enrollment)\n",
    "SE_net_conversion = binomial_SE_evaluation(p_payment_upon_click, cookie_startfreetrial, sample_cookie_startfreetrial)\n",
    "\n",
    "print('SE_gross_conversion: {0:.4f}'.format(SE_gross_conversion))\n",
    "print('SE_retention: {0:.4f}'.format(SE_retention))\n",
    "print('SE_net_conversion: {0:.4f}'.format(SE_net_conversion))"
   ]
  },
  {
   "cell_type": "markdown",
   "metadata": {},
   "source": [
    "## 3. Size\n",
    "* Note: My calculation is different than what online calculator provided\n",
    "* Given \n",
    "    $$ \\alpha = 0.05 $$\n",
    "    $$ \\beta = 0.2 $$\n",
    "    Calculate how many page view do you need for the experiment\n",
    "    Below is the process how to calculate sample size given $\\alpha$, $\\beta$ and $d_{min}$\n",
    "    \\begin{equation}\n",
    "        Z_1 = \\Phi_{1}^{-1} \\left(\\frac{\\alpha}{2} \\right), X \\sim N\\left(0, SE\\right) \\\\\n",
    "        Z_2 = \\Phi_{2}^{-1} \\left(\\beta \\right), X \\sim N\\left(d_{min}, SE\\right) \\\\\n",
    "        SE = \\sqrt{p_0(1-p_0)(\\frac{1}{n_1}+\\frac{1}{n_2})}, n_1 = n_2 \\\\\n",
    "        Z_1 = Z_2 \\\\\n",
    "    \\end{equation}"
   ]
  },
  {
   "cell_type": "code",
   "execution_count": 22,
   "metadata": {
    "collapsed": true
   },
   "outputs": [],
   "source": [
    "import scipy.stats\n",
    "# practical significance level\n",
    "dmin_p_enroll_upon_click = 0.01\n",
    "#Probability of payment, given enroll\n",
    "dmin_p_payment_upon_enroll = 0.01\n",
    "#Probability of payment, given click\n",
    "dmin_p_payment_upon_click = 0.0075"
   ]
  },
  {
   "cell_type": "code",
   "execution_count": 56,
   "metadata": {},
   "outputs": [],
   "source": [
    "def bisection(f, lower = 1, upper = 1e8, e = 1e-5):\n",
    "    '''using bisection to solve f, until f<=e'''\n",
    "    if f(lower) > f(upper):\n",
    "        lower = upper + lower\n",
    "        upper = lower - upper\n",
    "        lower = lower - upper\n",
    "    \n",
    "    if f(lower) > 0 or f(upper)<0:\n",
    "        raise ValueError(\"There is no root between lower and upper\")\n",
    "    \n",
    "    n = (lower+upper)/2\n",
    "    while abs(f(n)) > e:\n",
    "        if f(n) > 0:\n",
    "            upper = n\n",
    "        else:\n",
    "            lower = n\n",
    "        n = (lower+upper)/2\n",
    "        print(n)\n",
    "    return n"
   ]
  },
  {
   "cell_type": "code",
   "execution_count": 57,
   "metadata": {
    "collapsed": true
   },
   "outputs": [],
   "source": [
    "# bisection solution, consider the further tail\n",
    "def normal_test_sample_size_bisection(p, dmin, alpha, beta):\n",
    "    SE_base = (p*(1-p))**0.5\n",
    "    z_1 = abs(scipy.stats.norm.ppf(alpha/2))\n",
    "    \n",
    "    def f(n):\n",
    "        SE = SE_base * (2/n)**0.5\n",
    "        v_1 = (z_1 * SE - dmin)/SE\n",
    "        v_2 = (-z_1 * SE - dmin)/SE\n",
    "        f = scipy.stats.norm.cdf(v_1) - scipy.stats.norm.cdf(v_2) - beta\n",
    "        return f\n",
    "    \n",
    "    return bisection(f, lower = 1, upper = 1e8, e = 1e-5) * 2"
   ]
  },
  {
   "cell_type": "code",
   "execution_count": 58,
   "metadata": {
    "collapsed": true
   },
   "outputs": [],
   "source": [
    "# Non-bisection solution, doesn't consider further tail\n",
    "def normal_test_sample_size(p, dmin, alpha, beta):\n",
    "    SE_base = (p*(1-p))**0.5\n",
    "    z_1 = abs(scipy.stats.norm.ppf(alpha/2))\n",
    "    z_2 = abs(scipy.stats.norm.ppf(beta))\n",
    "    # multiple by 2 since pooled standard error is p(1-p)*2/n\n",
    "    n = ((z_1+z_2)*SE_base/dmin)**2 * 2\n",
    "    return n"
   ]
  },
  {
   "cell_type": "code",
   "execution_count": 96,
   "metadata": {},
   "outputs": [
    {
     "name": "stdout",
     "output_type": "stream",
     "text": [
      "gross conversion - click size needed: 51398\n",
      "retention - enrollment size needed: 78206\n",
      "net conversion - click size needed: 54343\n",
      "gross conversion - pageview size needed: 642474\n",
      "retention - pageview size needed: 4739772\n",
      "net conversion - pageview size needed: 679282\n"
     ]
    }
   ],
   "source": [
    "click_gross_conversion = normal_test_sample_size(p_enroll_upon_click, dmin_p_enroll_upon_click, 0.05, 0.2) * 2\n",
    "\n",
    "enrollment_retention = normal_test_sample_size(p_payment_upon_enroll, dmin_p_payment_upon_enroll, 0.05, 0.2) * 2 \n",
    "\n",
    "click_net_conversion = normal_test_sample_size(p_payment_upon_click, dmin_p_payment_upon_click, 0.05, 0.2) * 2 \n",
    "\n",
    "print('gross conversion - click size needed: {0:.0f}'.format(click_gross_conversion))\n",
    "print('retention - enrollment size needed: {0:.0f}'.format(enrollment_retention))\n",
    "print('net conversion - click size needed: {0:.0f}'.format(click_net_conversion))\n",
    "\n",
    "print('gross conversion - pageview size needed: {0:.0f}'.format(click_gross_conversion/ctp_startfreetrial))\n",
    "print('retention - pageview size needed: {0:.0f}'.format(enrollment_retention/p_enroll_upon_click/ctp_startfreetrial))\n",
    "print('net conversion - pageview size needed: {0:.0f}'.format(click_net_conversion/ctp_startfreetrial))"
   ]
  },
  {
   "cell_type": "markdown",
   "metadata": {},
   "source": [
    "## Duration"
   ]
  },
  {
   "cell_type": "code",
   "execution_count": 101,
   "metadata": {},
   "outputs": [
    {
     "name": "stdout",
     "output_type": "stream",
     "text": [
      "Days needed to achive enough sample:118\n"
     ]
    }
   ],
   "source": [
    "traffic = 1\n",
    "duration = 4739772/cookie_overview/traffic\n",
    "print('Days needed to achive enough sample:{0:.0f}'.format(duration))"
   ]
  },
  {
   "cell_type": "markdown",
   "metadata": {},
   "source": [
    "* Even if we devote 100% traffic of Udacity to the experiment, we will still need 118 days for generating enough sample size. Reality only allows us to spent a few weeks on the experiment\n",
    "* What we could do to shorten the duration?\n",
    "    1. Increase the practical significance level\n",
    "    2. Decrease $\\alpha$\n",
    "    3. Decrease power $1 - \\beta$"
   ]
  },
  {
   "cell_type": "code",
   "execution_count": 70,
   "metadata": {},
   "outputs": [],
   "source": [
    "%matplotlib inline\n",
    "import matplotlib.pyplot as plt\n",
    "import numpy as np"
   ]
  },
  {
   "cell_type": "markdown",
   "metadata": {},
   "source": [
    "* Try increasing practical significance level "
   ]
  },
  {
   "cell_type": "code",
   "execution_count": 86,
   "metadata": {},
   "outputs": [
    {
     "data": {
      "text/plain": [
       "[<matplotlib.lines.Line2D at 0x23f1946c4a8>]"
      ]
     },
     "execution_count": 86,
     "metadata": {},
     "output_type": "execute_result"
    },
    {
     "data": {
      "image/png": "[encoded data removed]",
      "text/plain": [
       "<Figure size 432x288 with 1 Axes>"
      ]
     },
     "metadata": {},
     "output_type": "display_data"
    }
   ],
   "source": [
    "N = np.linspace(dmin_p_payment_upon_enroll, 0.05, 50)\n",
    "size = [normal_test_sample_size(p_payment_upon_enroll, n, 0.05, 0.2) * 2 /p_enroll_upon_click/ctp_startfreetrial/40000 for n in N]\n",
    "plt.plot(N, size)"
   ]
  },
  {
   "cell_type": "markdown",
   "metadata": {},
   "source": [
    "* Try increase alpha"
   ]
  },
  {
   "cell_type": "code",
   "execution_count": 91,
   "metadata": {},
   "outputs": [
    {
     "data": {
      "text/plain": [
       "[<matplotlib.lines.Line2D at 0x23f1a619588>]"
      ]
     },
     "execution_count": 91,
     "metadata": {},
     "output_type": "execute_result"
    },
    {
     "data": {
      "image/png": "[encoded data removed]",
      "text/plain": [
       "<Figure size 432x288 with 1 Axes>"
      ]
     },
     "metadata": {},
     "output_type": "display_data"
    }
   ],
   "source": [
    "N = np.linspace(0.05, 0.3, 50)\n",
    "size = [normal_test_sample_size(p_payment_upon_enroll, dmin_p_payment_upon_enroll, n, 0.2) * 2 /p_enroll_upon_click/ctp_startfreetrial/40000 for n in N]\n",
    "plt.plot(N, size)"
   ]
  },
  {
   "cell_type": "markdown",
   "metadata": {},
   "source": [
    "* Try decrease power"
   ]
  },
  {
   "cell_type": "code",
   "execution_count": 90,
   "metadata": {},
   "outputs": [
    {
     "data": {
      "text/plain": [
       "[<matplotlib.lines.Line2D at 0x23f1a5bc3c8>]"
      ]
     },
     "execution_count": 90,
     "metadata": {},
     "output_type": "execute_result"
    },
    {
     "data": {
      "image/png": "[encoded data removed]",
      "text/plain": [
       "<Figure size 432x288 with 1 Axes>"
      ]
     },
     "metadata": {},
     "output_type": "display_data"
    }
   ],
   "source": [
    "N = np.linspace(0.2, 0.5, 50)\n",
    "size = [normal_test_sample_size(p_payment_upon_enroll, dmin_p_payment_upon_enroll, 0.05, n) * 2 /p_enroll_upon_click/ctp_startfreetrial/40000 for n in N]\n",
    "plt.plot(N, size)"
   ]
  },
  {
   "cell_type": "markdown",
   "metadata": {},
   "source": [
    "## 4. Sanity Check\n",
    "* Two files control/experiment contain the data\n",
    "* Check if the invariant metrics are true invariant"
   ]
  },
  {
   "cell_type": "code",
   "execution_count": 93,
   "metadata": {},
   "outputs": [],
   "source": [
    "import pandas as pd"
   ]
  },
  {
   "cell_type": "code",
   "execution_count": 95,
   "metadata": {
    "collapsed": true
   },
   "outputs": [],
   "source": [
    "ctl = pd.read_csv('Control.csv')\n",
    "exp = pd.read_csv('Experiment.csv')"
   ]
  },
  {
   "cell_type": "code",
   "execution_count": 97,
   "metadata": {},
   "outputs": [
    {
     "data": {
      "text/html": [
       "<div>\n",
       "<style scoped>\n",
       "    .dataframe tbody tr th:only-of-type {\n",
       "        vertical-align: middle;\n",
       "    }\n",
       "\n",
       "    .dataframe tbody tr th {\n",
       "        vertical-align: top;\n",
       "    }\n",
       "\n",
       "    .dataframe thead th {\n",
       "        text-align: right;\n",
       "    }\n",
       "</style>\n",
       "<table border=\"1\" class=\"dataframe\">\n",
       "  <thead>\n",
       "    <tr style=\"text-align: right;\">\n",
       "      <th></th>\n",
       "      <th>Date</th>\n",
       "      <th>Pageviews</th>\n",
       "      <th>Clicks</th>\n",
       "      <th>Enrollments</th>\n",
       "      <th>Payments</th>\n",
       "    </tr>\n",
       "  </thead>\n",
       "  <tbody>\n",
       "    <tr>\n",
       "      <th>0</th>\n",
       "      <td>Sat, Oct 11</td>\n",
       "      <td>7716</td>\n",
       "      <td>686</td>\n",
       "      <td>105.0</td>\n",
       "      <td>34.0</td>\n",
       "    </tr>\n",
       "    <tr>\n",
       "      <th>1</th>\n",
       "      <td>Sun, Oct 12</td>\n",
       "      <td>9288</td>\n",
       "      <td>785</td>\n",
       "      <td>116.0</td>\n",
       "      <td>91.0</td>\n",
       "    </tr>\n",
       "    <tr>\n",
       "      <th>2</th>\n",
       "      <td>Mon, Oct 13</td>\n",
       "      <td>10480</td>\n",
       "      <td>884</td>\n",
       "      <td>145.0</td>\n",
       "      <td>79.0</td>\n",
       "    </tr>\n",
       "    <tr>\n",
       "      <th>3</th>\n",
       "      <td>Tue, Oct 14</td>\n",
       "      <td>9867</td>\n",
       "      <td>827</td>\n",
       "      <td>138.0</td>\n",
       "      <td>92.0</td>\n",
       "    </tr>\n",
       "    <tr>\n",
       "      <th>4</th>\n",
       "      <td>Wed, Oct 15</td>\n",
       "      <td>9793</td>\n",
       "      <td>832</td>\n",
       "      <td>140.0</td>\n",
       "      <td>94.0</td>\n",
       "    </tr>\n",
       "    <tr>\n",
       "      <th>5</th>\n",
       "      <td>Thu, Oct 16</td>\n",
       "      <td>9500</td>\n",
       "      <td>788</td>\n",
       "      <td>129.0</td>\n",
       "      <td>61.0</td>\n",
       "    </tr>\n",
       "    <tr>\n",
       "      <th>6</th>\n",
       "      <td>Fri, Oct 17</td>\n",
       "      <td>9088</td>\n",
       "      <td>780</td>\n",
       "      <td>127.0</td>\n",
       "      <td>44.0</td>\n",
       "    </tr>\n",
       "    <tr>\n",
       "      <th>7</th>\n",
       "      <td>Sat, Oct 18</td>\n",
       "      <td>7664</td>\n",
       "      <td>652</td>\n",
       "      <td>94.0</td>\n",
       "      <td>62.0</td>\n",
       "    </tr>\n",
       "    <tr>\n",
       "      <th>8</th>\n",
       "      <td>Sun, Oct 19</td>\n",
       "      <td>8434</td>\n",
       "      <td>697</td>\n",
       "      <td>120.0</td>\n",
       "      <td>77.0</td>\n",
       "    </tr>\n",
       "    <tr>\n",
       "      <th>9</th>\n",
       "      <td>Mon, Oct 20</td>\n",
       "      <td>10496</td>\n",
       "      <td>860</td>\n",
       "      <td>153.0</td>\n",
       "      <td>98.0</td>\n",
       "    </tr>\n",
       "    <tr>\n",
       "      <th>10</th>\n",
       "      <td>Tue, Oct 21</td>\n",
       "      <td>10551</td>\n",
       "      <td>864</td>\n",
       "      <td>143.0</td>\n",
       "      <td>71.0</td>\n",
       "    </tr>\n",
       "    <tr>\n",
       "      <th>11</th>\n",
       "      <td>Wed, Oct 22</td>\n",
       "      <td>9737</td>\n",
       "      <td>801</td>\n",
       "      <td>128.0</td>\n",
       "      <td>70.0</td>\n",
       "    </tr>\n",
       "    <tr>\n",
       "      <th>12</th>\n",
       "      <td>Thu, Oct 23</td>\n",
       "      <td>8176</td>\n",
       "      <td>642</td>\n",
       "      <td>122.0</td>\n",
       "      <td>68.0</td>\n",
       "    </tr>\n",
       "    <tr>\n",
       "      <th>13</th>\n",
       "      <td>Fri, Oct 24</td>\n",
       "      <td>9402</td>\n",
       "      <td>697</td>\n",
       "      <td>194.0</td>\n",
       "      <td>94.0</td>\n",
       "    </tr>\n",
       "    <tr>\n",
       "      <th>14</th>\n",
       "      <td>Sat, Oct 25</td>\n",
       "      <td>8669</td>\n",
       "      <td>669</td>\n",
       "      <td>127.0</td>\n",
       "      <td>81.0</td>\n",
       "    </tr>\n",
       "    <tr>\n",
       "      <th>15</th>\n",
       "      <td>Sun, Oct 26</td>\n",
       "      <td>8881</td>\n",
       "      <td>693</td>\n",
       "      <td>153.0</td>\n",
       "      <td>101.0</td>\n",
       "    </tr>\n",
       "    <tr>\n",
       "      <th>16</th>\n",
       "      <td>Mon, Oct 27</td>\n",
       "      <td>9655</td>\n",
       "      <td>771</td>\n",
       "      <td>213.0</td>\n",
       "      <td>119.0</td>\n",
       "    </tr>\n",
       "    <tr>\n",
       "      <th>17</th>\n",
       "      <td>Tue, Oct 28</td>\n",
       "      <td>9396</td>\n",
       "      <td>736</td>\n",
       "      <td>162.0</td>\n",
       "      <td>120.0</td>\n",
       "    </tr>\n",
       "    <tr>\n",
       "      <th>18</th>\n",
       "      <td>Wed, Oct 29</td>\n",
       "      <td>9262</td>\n",
       "      <td>727</td>\n",
       "      <td>201.0</td>\n",
       "      <td>96.0</td>\n",
       "    </tr>\n",
       "    <tr>\n",
       "      <th>19</th>\n",
       "      <td>Thu, Oct 30</td>\n",
       "      <td>9308</td>\n",
       "      <td>728</td>\n",
       "      <td>207.0</td>\n",
       "      <td>67.0</td>\n",
       "    </tr>\n",
       "    <tr>\n",
       "      <th>20</th>\n",
       "      <td>Fri, Oct 31</td>\n",
       "      <td>8715</td>\n",
       "      <td>722</td>\n",
       "      <td>182.0</td>\n",
       "      <td>123.0</td>\n",
       "    </tr>\n",
       "    <tr>\n",
       "      <th>21</th>\n",
       "      <td>Sat, Nov 1</td>\n",
       "      <td>8448</td>\n",
       "      <td>695</td>\n",
       "      <td>142.0</td>\n",
       "      <td>100.0</td>\n",
       "    </tr>\n",
       "    <tr>\n",
       "      <th>22</th>\n",
       "      <td>Sun, Nov 2</td>\n",
       "      <td>8836</td>\n",
       "      <td>724</td>\n",
       "      <td>182.0</td>\n",
       "      <td>103.0</td>\n",
       "    </tr>\n",
       "    <tr>\n",
       "      <th>23</th>\n",
       "      <td>Mon, Nov 3</td>\n",
       "      <td>9359</td>\n",
       "      <td>789</td>\n",
       "      <td>NaN</td>\n",
       "      <td>NaN</td>\n",
       "    </tr>\n",
       "    <tr>\n",
       "      <th>24</th>\n",
       "      <td>Tue, Nov 4</td>\n",
       "      <td>9427</td>\n",
       "      <td>743</td>\n",
       "      <td>NaN</td>\n",
       "      <td>NaN</td>\n",
       "    </tr>\n",
       "    <tr>\n",
       "      <th>25</th>\n",
       "      <td>Wed, Nov 5</td>\n",
       "      <td>9633</td>\n",
       "      <td>808</td>\n",
       "      <td>NaN</td>\n",
       "      <td>NaN</td>\n",
       "    </tr>\n",
       "    <tr>\n",
       "      <th>26</th>\n",
       "      <td>Thu, Nov 6</td>\n",
       "      <td>9842</td>\n",
       "      <td>831</td>\n",
       "      <td>NaN</td>\n",
       "      <td>NaN</td>\n",
       "    </tr>\n",
       "    <tr>\n",
       "      <th>27</th>\n",
       "      <td>Fri, Nov 7</td>\n",
       "      <td>9272</td>\n",
       "      <td>767</td>\n",
       "      <td>NaN</td>\n",
       "      <td>NaN</td>\n",
       "    </tr>\n",
       "    <tr>\n",
       "      <th>28</th>\n",
       "      <td>Sat, Nov 8</td>\n",
       "      <td>8969</td>\n",
       "      <td>760</td>\n",
       "      <td>NaN</td>\n",
       "      <td>NaN</td>\n",
       "    </tr>\n",
       "    <tr>\n",
       "      <th>29</th>\n",
       "      <td>Sun, Nov 9</td>\n",
       "      <td>9697</td>\n",
       "      <td>850</td>\n",
       "      <td>NaN</td>\n",
       "      <td>NaN</td>\n",
       "    </tr>\n",
       "    <tr>\n",
       "      <th>30</th>\n",
       "      <td>Mon, Nov 10</td>\n",
       "      <td>10445</td>\n",
       "      <td>851</td>\n",
       "      <td>NaN</td>\n",
       "      <td>NaN</td>\n",
       "    </tr>\n",
       "    <tr>\n",
       "      <th>31</th>\n",
       "      <td>Tue, Nov 11</td>\n",
       "      <td>9931</td>\n",
       "      <td>831</td>\n",
       "      <td>NaN</td>\n",
       "      <td>NaN</td>\n",
       "    </tr>\n",
       "    <tr>\n",
       "      <th>32</th>\n",
       "      <td>Wed, Nov 12</td>\n",
       "      <td>10042</td>\n",
       "      <td>802</td>\n",
       "      <td>NaN</td>\n",
       "      <td>NaN</td>\n",
       "    </tr>\n",
       "    <tr>\n",
       "      <th>33</th>\n",
       "      <td>Thu, Nov 13</td>\n",
       "      <td>9721</td>\n",
       "      <td>829</td>\n",
       "      <td>NaN</td>\n",
       "      <td>NaN</td>\n",
       "    </tr>\n",
       "    <tr>\n",
       "      <th>34</th>\n",
       "      <td>Fri, Nov 14</td>\n",
       "      <td>9304</td>\n",
       "      <td>770</td>\n",
       "      <td>NaN</td>\n",
       "      <td>NaN</td>\n",
       "    </tr>\n",
       "    <tr>\n",
       "      <th>35</th>\n",
       "      <td>Sat, Nov 15</td>\n",
       "      <td>8668</td>\n",
       "      <td>724</td>\n",
       "      <td>NaN</td>\n",
       "      <td>NaN</td>\n",
       "    </tr>\n",
       "    <tr>\n",
       "      <th>36</th>\n",
       "      <td>Sun, Nov 16</td>\n",
       "      <td>8988</td>\n",
       "      <td>710</td>\n",
       "      <td>NaN</td>\n",
       "      <td>NaN</td>\n",
       "    </tr>\n",
       "  </tbody>\n",
       "</table>\n",
       "</div>"
      ],
      "text/plain": [
       "           Date  Pageviews  Clicks  Enrollments  Payments\n",
       "0   Sat, Oct 11       7716     686        105.0      34.0\n",
       "1   Sun, Oct 12       9288     785        116.0      91.0\n",
       "2   Mon, Oct 13      10480     884        145.0      79.0\n",
       "3   Tue, Oct 14       9867     827        138.0      92.0\n",
       "4   Wed, Oct 15       9793     832        140.0      94.0\n",
       "5   Thu, Oct 16       9500     788        129.0      61.0\n",
       "6   Fri, Oct 17       9088     780        127.0      44.0\n",
       "7   Sat, Oct 18       7664     652         94.0      62.0\n",
       "8   Sun, Oct 19       8434     697        120.0      77.0\n",
       "9   Mon, Oct 20      10496     860        153.0      98.0\n",
       "10  Tue, Oct 21      10551     864        143.0      71.0\n",
       "11  Wed, Oct 22       9737     801        128.0      70.0\n",
       "12  Thu, Oct 23       8176     642        122.0      68.0\n",
       "13  Fri, Oct 24       9402     697        194.0      94.0\n",
       "14  Sat, Oct 25       8669     669        127.0      81.0\n",
       "15  Sun, Oct 26       8881     693        153.0     101.0\n",
       "16  Mon, Oct 27       9655     771        213.0     119.0\n",
       "17  Tue, Oct 28       9396     736        162.0     120.0\n",
       "18  Wed, Oct 29       9262     727        201.0      96.0\n",
       "19  Thu, Oct 30       9308     728        207.0      67.0\n",
       "20  Fri, Oct 31       8715     722        182.0     123.0\n",
       "21   Sat, Nov 1       8448     695        142.0     100.0\n",
       "22   Sun, Nov 2       8836     724        182.0     103.0\n",
       "23   Mon, Nov 3       9359     789          NaN       NaN\n",
       "24   Tue, Nov 4       9427     743          NaN       NaN\n",
       "25   Wed, Nov 5       9633     808          NaN       NaN\n",
       "26   Thu, Nov 6       9842     831          NaN       NaN\n",
       "27   Fri, Nov 7       9272     767          NaN       NaN\n",
       "28   Sat, Nov 8       8969     760          NaN       NaN\n",
       "29   Sun, Nov 9       9697     850          NaN       NaN\n",
       "30  Mon, Nov 10      10445     851          NaN       NaN\n",
       "31  Tue, Nov 11       9931     831          NaN       NaN\n",
       "32  Wed, Nov 12      10042     802          NaN       NaN\n",
       "33  Thu, Nov 13       9721     829          NaN       NaN\n",
       "34  Fri, Nov 14       9304     770          NaN       NaN\n",
       "35  Sat, Nov 15       8668     724          NaN       NaN\n",
       "36  Sun, Nov 16       8988     710          NaN       NaN"
      ]
     },
     "execution_count": 97,
     "metadata": {},
     "output_type": "execute_result"
    }
   ],
   "source": []
  },
  {
   "cell_type": "code",
   "execution_count": null,
   "metadata": {
    "collapsed": true
   },
   "outputs": [],
   "source": []
  }
 ],
 "metadata": {
  "kernelspec": {
   "display_name": "Python 3",
   "language": "python",
   "name": "python3"
  },
  "language_info": {
   "codemirror_mode": {
    "name": "ipython",
    "version": 3
   },
   "file_extension": ".py",
   "mimetype": "text/x-python",
   "name": "python",
   "nbconvert_exporter": "python",
   "pygments_lexer": "ipython3",
   "version": "3.6.4"
  }
 },
 "nbformat": 4,
 "nbformat_minor": 2
}
